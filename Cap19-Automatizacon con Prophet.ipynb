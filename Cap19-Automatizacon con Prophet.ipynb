{
 "cells": [
  {
   "cell_type": "markdown",
   "id": "3a745c12",
   "metadata": {},
   "source": [
    "**Tabla de contenido**\n",
    "\n",
    "- [Descripción general de las bibliotecas de previsión automatizadas](#Descripcion-general-de-las-bibliotecas-de-prevision-automatizadas)\n",
    "- [Explorando Prophet](#Explorando-Prophet)"
   ]
  },
  {
   "cell_type": "markdown",
   "id": "4f1580b3",
   "metadata": {},
   "source": [
    "A lo largo de este libro, hemos creado modelos que implican muchos pasos manuales. Para las declinaciones de los modelos SARIMAX, por ejemplo, tuvimos que desarrollar una función para seleccionar el mejor modelo de acuerdo con la información de Akaike criterio (AIC) y una función para realizar pronósticos continuos. En la parte de aprendizaje profundo del libro, tuvimos que crear una clase para crear ventanas de datos, así como definir todos los modelos de aprendizaje profundo, aunque esto fue facilitado en gran medida por el uso de Keras.\n",
    "\n",
    "Mientras que construir y ajustar manualmente nuestros modelos permite una gran flexibilidad y un control total sobre nuestras técnicas de pronóstico, también es útil automatizar la mayor parte del proceso de pronóstico, facilitando la predicción de series temporales y acelerando los experimentos. Por lo tanto, es importante comprender las herramientas de automatización, ya que son una manera rápida de obtener predicciones, y a menudo facilitan el uso de modelos de última generación.\n",
    "\n",
    "En este capítulo, primero analizaremos las diversas bibliotecas que automatizan el proceso de pronóstico de series temporales. Luego, nos centraremos específicamente en la biblioteca Prophet, que es sin duda la biblioteca de pronóstico más conocida y utilizada. Exploraremos su funcionalidad usando un conjunto de datos de la vida real.\n",
    "\n",
    "Finalmente, concluiremos este capítulo con un proyecto de pronóstico para que podamos ver a Prophet en acción."
   ]
  },
  {
   "cell_type": "markdown",
   "id": "ea90ca81",
   "metadata": {},
   "source": [
    "# Descripcion general de las bibliotecas de prevision automatizadas"
   ]
  },
  {
   "cell_type": "markdown",
   "id": "548cac27",
   "metadata": {},
   "source": [
    "La comunidad de ciencia de datos y las empresas han desarrollado muchas bibliotecas para automatizar el proceso de previsión y facilitarlo. Algunas de las bibliotecas más populares y sus sitios web se enumeran aquí:\n",
    "\n",
    "- Pmdarima —http://alkaline-ml.com/pmdarima/modules/classes.html\n",
    "- Prophet —https://facebook.github.io/prophet\n",
    "- NeuralProphet —https://neuralprophet.com/html/index.html\n",
    "- PyTorch Forecasting —https://pytorch-forecasting.readthedocs.io/en/stable\n",
    "\n",
    "Esta no es de ninguna manera una lista exhaustiva, y deseo permanecer imparcial en su uso. Como científico de datos, tiene el conocimiento y la capacidad para evaluar si una biblioteca en particular es adecuada para sus necesidades en un contexto particular.\n",
    "\n",
    "La biblioteca pmdarima es la implementación en Python del popular auto.biblioteca arima en R. Pmdarima es esencialmente un contenedor que generaliza muchos de los modelos estadísticos que hemos utilizado, como los modelos ARMA, ARIMA y SARIMA.\n",
    "\n",
    "La principal ventaja de esta biblioteca es que\n",
    "proporciona una interfaz fácil de usar que utiliza automáticamente todas las herramientas que hemos analizado para la previsión. con modelos estadísticos, como la prueba aumentada de Dickey-Fuller (ADF) para probar la estacionariedad y seleccionar los órdenes p, q, P y Q para minimizar el AIC. También viene con conjuntos de datos de juguetes, lo que lo hace ideal para que los principiantes prueben diferentes modelos en series temporales simples.\n",
    "\n",
    "Este paquete es creado y mantenido por la comunidad, pero, lo que es más importante, todavía se mantiene activamente al momento de escribir este artículo.\n",
    "\n",
    "Prophet es un paquete de código abierto de Meta Open Source, lo que significa que Meta lo crea y mantiene. Esta biblioteca fue construida específicamente para la previsión de negocios a escala. Surgió de la necesidad interna de Facebook de producir pronósticos precisos rápidamente, y la biblioteca se puso a disposición de forma gratuita. Prophet es posiblemente la biblioteca de pronósticos más conocida de la industria, ya que puede adaptarse a tendencias no lineales y combinar el efecto de múltiples estacionalidades. El resto de este capítulo y el siguiente se centrarán por completo en esta biblioteca, y la exploraremos con mayor detalle en la siguiente sección.\n",
    "\n",
    "NeuralProphet se basa en la biblioteca Prophet para automatizar el uso de modelos híbridos para la previsión de series temporales. Este es un proyecto bastante nuevo que aún se encuentra en su fase beta al momento de escribir este artículo. La biblioteca fue construida con la colaboración de personas de diferentes universidades y Facebook. Este paquete presenta una combinación de modelos clásicos, como ARIMA, y redes neuronales, para producir pronósticos precisos. Utiliza PyTorch en el backend, lo que significa que los usuarios experimentados pueden ampliar fácilmente la funcionalidad de la biblioteca. Lo más importante es que utiliza una API similar a la de Prophet, por lo que una vez que aprenda a trabajar con Prophet, puede pasar sin problemas a trabajar con NeuralProphet. Para obtener más información, puede leer su artículo, \"NeuralProphet: Predicción explicable a escala\" (https://arxiv.org/abs/2111.15397).\n",
    "\n",
    "It provides greater detail on NeuralProphet’s internal functions and performance benchmarks while still being an accessible article.\n",
    "\n",
    "Finalmente, PyTorch Forecasting facilita el uso de modelos de aprendizaje profundo de vanguardia para la previsión de series temporales. Por supuesto, utiliza PyTorch y proporciona una interfaz simple para implementar modelos como DeepAR, N-Beats, LSTM, y más. Este paquete está construido por la comunidad y, al momento de escribir, se está manteniendo activamente.\n",
    "\n",
    "Esto te da un breve resumen del ecosistema de pronósticos automáticos. Ten en cuenta que esta lista no es exhaustiva, ya que hay muchas más bibliotecas para pronósticos de series temporales automatizados.\n",
    "\n",
    "No necesitas aprender a usar cada una de las bibliotecas que he presentado. Esto está destinado a ser una visión general de las diferentes herramientas disponibles. Cada problema de pronóstico de series temporales puede requerir un conjunto diferente de herramientas, pero saber cómo usar una de las bibliotecas generalmente facilita el uso de una nueva. Así que nos centraremos en la biblioteca Prophet para el resto de este libro.\n",
    "\n",
    "Como mencioné, Prophet es una biblioteca bien conocida y ampliamente utilizada en la industria, y cualquier persona que haga pronósticos de series temporales probablemente se encontrará con Prophet. En la siguiente sección, exploraremos el paquete con mayor detalle y aprenderemos sobre sus ventajas, limitaciones y funcionalidad antes de usarlo para pronósticos."
   ]
  },
  {
   "cell_type": "markdown",
   "id": "6fd06e72",
   "metadata": {},
   "source": [
    "# Explorando Prophet"
   ]
  },
  {
   "cell_type": "markdown",
   "id": "efa34692",
   "metadata": {},
   "source": [
    "Prophet es una biblioteca de código abierto creada por Meta que implementa un procedimiento de pronóstico que tiene en cuenta tendencias no lineales con múltiples periodos estacionales, como anuales, mensuales, semanales y diarios. El paquete está disponible para su uso con Python. Te permite hacer pronósticos rápidamente con un trabajo manual mínimo. Los usuarios más avanzados, como nosotros, pueden ajustar finamente el modelo para asegurarse de obtener los mejores resultados posibles.\n",
    "\n",
    "Bajo el capó, Prophet implementa un modelo aditivo general donde cada serie de tiempo $y(t)$ se modela como la combinación lineal de una tendencia $g(t)$, un componente estacional $s(t)$, efectos de vacaciones $h(t)$, y un término de error $ϵ_t$, que está distribuido normalmente. Matemáticamente, esto se expresa como la ecuación 19.1.\n",
    "\n",
    "$y(t) = g(t) + s(t) + h(t) + ϵ_t$\n",
    "\n",
    "El componente de tendencia modela los cambios a largo plazo no periódicos en la serie temporal. El componente estacional modela el cambio periódico, ya sea anual, mensual, semanal o diario. El efecto de las fiestas ocurre de manera irregular y potencialmente en más de un día. Finalmente, el término de error representa cualquier cambio en el valor que no puede ser explicado por los tres componentes anteriores.\n",
    "\n",
    "`Observe que este modelo no tiene en cuenta la dependencia temporal de los datos`, a diferencia del modelo ARIMA(p,d,q), donde los valores futuros dependen de los valores pasados. `Por lo tanto, este proceso se asemeja más a ajustar una curva a los datos`, en lugar de encontrar el proceso subyacente. Aunque hay cierta pérdida de información predictiva al utilizar este método, viene con la ventaja de ser muy flexible, ya que puede acomodar múltiples períodos estacionales y tendencias cambiantes. Además, `es robusto ante valores atípicos y datos faltantes`, lo cual es una clara ventaja en un contexto empresarial.\n"
   ]
  }
 ],
 "metadata": {
  "kernelspec": {
   "display_name": "Series_TF",
   "language": "python",
   "name": "python3"
  },
  "language_info": {
   "name": "python",
   "version": "3.12.9"
  }
 },
 "nbformat": 4,
 "nbformat_minor": 5
}
