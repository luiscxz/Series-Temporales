{
 "cells": [
  {
   "cell_type": "markdown",
   "id": "aca6b6ea",
   "metadata": {},
   "source": [
    "**Tabla de contenido**\n",
    "\n",
    "- [El tiempo no espera a nadie](#El-tiempo-no-espera-a-nadie)\n",
    "- [Understanding time series forecasting](#Understanding-time-series-forecasting)\n",
    "- [Introducing time series](#Introducing-time-series)\n",
    "    - [Components of a time series](#Components-of-a-time-series)\n",
    "    - [Bird’s-eye view of time series forecasting](#Bird-is-eye-view-of-time-series-forecasting)\n",
    "    - [How time series forecasting is different from other regression tasks](#How-time-series-forecasting-is-different-from-other-regression-tasks)\n",
    "    - [Time series sometimes do not have features](#Time-series-sometimes-do-not-have-features)\n",
    "    - [Next steps](#Next-steps)\n",
    "- [Summary](#Summary)"
   ]
  },
  {
   "cell_type": "markdown",
   "id": "65c6e793",
   "metadata": {},
   "source": [
    "# El tiempo no espera a nadie"
   ]
  },
  {
   "cell_type": "markdown",
   "id": "122db215",
   "metadata": {},
   "source": [
    "Muy pocos fenómenos son indiferentes al tiempo, lo que en sí mismo es suficiente para justificar la importancia de entender qué son las series temporales. En esta primera parte del libro, definiremos las series temporales y exploraremos las particularidades de trabajar con ellas. También desarrollaremos nuestros primeros modelos de pronóstico utilizando métodos ingenuos. Estos servirán como modelos de referencia, y reutilizaremos estas técnicas a lo largo del libro. `Finalmente, estudiaremos una situación en la que no es posible hacer pronósticos`, para que podamos identificar y evitar caer en esa trampa."
   ]
  },
  {
   "cell_type": "markdown",
   "id": "3e2a3199",
   "metadata": {},
   "source": [
    "# Understanding time series forecasting"
   ]
  },
  {
   "cell_type": "markdown",
   "id": "8aa199c7",
   "metadata": {},
   "source": [
    "Las series de tiempo existen en una variedad de campos, desde la meteorología hasta las finanzas, la econometría y el marketing. Al registrar datos y analizarlos, podemos estudiar series de tiempo para analizar procesos industriales o realizar un seguimiento de métricas comerciales, como ventas o compromiso. Además, con grandes cantidades de datos disponibles, los científicos de datos pueden aplicar su experiencia a las técnicas de pronóstico de series de tiempo.\n",
    "\n",
    "Este capítulo `examinará los conceptos básicos de la previsión de series temporales`. Comenzaré definiendo qué es una serie temporal para que puedas reconocer una. Luego, pasaremos a discutir el propósito de la previsión de series temporales. Finalmente, aprenderás por qué prever una serie temporal es diferente de otros problemas de regresión, y por lo tanto, por qué el tema merece su propio libro."
   ]
  },
  {
   "cell_type": "markdown",
   "id": "7a8e3538",
   "metadata": {},
   "source": [
    "# Introducing time series"
   ]
  },
  {
   "cell_type": "markdown",
   "id": "f03a0f7d",
   "metadata": {},
   "source": [
    "El primer paso para entender y realizar pronósticos de series temporales es aprender `qué es una serie temporal`. En resumen, `una serie temporal es simplemente un conjunto de puntos de datos ordenados en el tiempo`. Además, los datos a menudo están igualmente espaciados en el tiempo, lo que significa que intervalos iguales separan cada punto de dato. En términos más simples, los datos pueden registrarse cada hora o cada minuto, o podrían promediarse sobre cada mes o año."
   ]
  },
  {
   "cell_type": "markdown",
   "id": "01e42829",
   "metadata": {},
   "source": [
    "## Components of a time series"
   ]
  },
  {
   "cell_type": "markdown",
   "id": "82978c12",
   "metadata": {},
   "source": [
    "Podemos profundizar nuestra comprensión de las series de tiempo al observar sus tres componentes: `una tendencia`, un `componente estacional` y los `residuos`. De hecho, `todas las series de tiempo pueden descomponerse en estos tres elementos`.\n",
    "\n",
    "`Visualizar los componentes de una serie temporal se conoce como descomposición`. La descomposición se define como una tarea estadística que separa una serie temporal en sus diferentes componentes. Podemos visualizar cada componente individual, lo que `nos ayudará a identificar la tendencia y el patrón estacional en los datos`, lo cual no siempre es sencillo solo con mirar un conjunto de datos.\n",
    "\n",
    "- `Tendecia`: La tendencia se define como los cambios lentos en una serie temporal.\n",
    "- `Componente estacional`: El componente estacional captura la variación estacional, que es un ciclo que ocurre durante un período de tiempo fijo. `El componente estacional muestra como nos desviamos de la tendencia`. A veces tenemos una desviación positiva y otras veces, tenemos una desviación negativa.\n",
    "- `Residuos`: Son lo que no se puede explicar ni por la tendencia ni por los componentes estacionales. Los residuos generalmente corresponden a `errores aleatorios`, también denominados `ruido blanco`,\n",
    "\n",
    "`Ruido blanco` :Representan información que no podemos modelar ni predecir, ya que es completamente aleatoria, como se muestra en la figura.\n",
    "\n",
    "![Residuos](fig/residuos.png)\n",
    "\n",
    "`Enfocándose en los residuales`. Los residuales son lo que no puede ser explicado por la tendencia y los componentes estacionales.\n",
    "\n",
    "Ya podemos ver intuitivamente cómo cada componente afecta nuestro trabajo al hacer pronósticos. `Si una serie temporal expone una cierta tendencia`, entonces esperamos que continúe en el futuro. De manera similar, si observamos un fuerte efecto de estacionalidad, es probable que esto continúe, y nuestras predicciones deben reflejar eso. Más adelante en el libro, verás cómo tener en cuenta estos componentes e incluirlos en tus modelos para pronosticar series temporales más complejas."
   ]
  },
  {
   "cell_type": "markdown",
   "id": "5144c984",
   "metadata": {},
   "source": [
    "## Bird is-eye view of time series forecasting"
   ]
  },
  {
   "cell_type": "markdown",
   "id": "99b877d7",
   "metadata": {},
   "source": [
    "`La predicción consiste en predecir el futuro utilizando datos históricos y el conocimiento de eventos futuros que podrían afectar nuestras previsiones`. Esta definición está llena de promesas y, como científicos de datos, a menudo estamos muy ansiosos por comenzar a realizar pronósticos utilizando nuestro conocimiento científico para mostrar un modelo increíble con una precisión de pronóstico casi perfecta. `Sin embargo, hay pasos importantes que deben ser cubiertos antes de llegar al punto de realizar pronósticos`.\n",
    "\n",
    "`Ruta de un proyecto de forescating`:\n",
    "- Establecer un objetivo que justifique la necesidad de pronosticar.\n",
    "- Determinar qué necesita ser pronosticado para alcanzar ese objetivo.\n",
    "- Después estableces el horizonte del pronóstico.\n",
    "- Una vez que eso esté hecho, puedes recopilar los datos y desarrollar un modelo de pronóstico.\n",
    "- Luego, el modelo se despliega en producción, se monitorea su rendimiento y se recopilan nuevos datos para volver a entrenar el modelo de pronóstico y asegurarte de que siga siendo relevante."
   ]
  },
  {
   "cell_type": "markdown",
   "id": "4a3fb169",
   "metadata": {},
   "source": [
    "## How time series forecasting is different from other regression tasks"
   ]
  },
  {
   "cell_type": "markdown",
   "id": "c6e53f65",
   "metadata": {},
   "source": [
    "Probablemente te has encontrado con tareas de regresión donde debes predecir un objetivo continuo dado un cierto conjunto de características. A primera vista, la previsión de series temporales parece un problema típico de regresión: tenemos algunos datos históricos y deseamos construir una expresión matemática que exprese los valores futuros como una función de los valores pasados. Sin embargo, hay algunas diferencias clave entre la previsión de series temporales y la regresión para escenarios independientes del tiempo que merecen ser abordadas antes de que analicemos nuestra primera técnica de previsión.\n",
    "\n",
    "`El primer concepto a tener en cuenta es que las series temporales tienen un orden, y no podemos cambiar ese orden al modelar`. En la previsión de series temporales, expresamos los valores futuros como una función de los valores pasados. Por lo tanto, debemos mantener los datos en orden, para no violar esta relación.\n",
    "\n",
    "Además, tiene sentido mantener los datos en orden porque `tu modelo solo puede usar información del pasado hasta el presente`; no sabrá lo que se observará en el futuro. \n",
    "\n",
    "`Otras tareas de regresión en el aprendizaje automático a menudo no tienen un orden`. Por ejemplo, si se te encarga predecir los ingresos basados en el gasto en publicidad, no importa cuándo se gastó una cierta cantidad en anuncios. En cambio, simplemente deseas relacionar la cantidad de gasto en publicidad con los ingresos. De hecho, incluso podrías barajar aleatoriamente los datos para hacer que tu modelo sea más robusto. Aquí, la tarea de regresión es simplemente derivar una función tal que dado un monto de gasto en publicidad, se devuelva una estimación de los ingresos.\n",
    "\n",
    "Por otro lado, `las series temporales están indexadas por tiempo, y ese orden debe ser mantenido`. De lo contrario, estarías entrenando tu modelo con información futura que no tendría en el momento de la predicción. Esto se llama sesgo de anticipación en términos más formales. Por lo tanto, el modelo resultante no sería confiable y probablemente tendría un rendimiento deficiente cuando realices pronósticos futuros.\n"
   ]
  },
  {
   "cell_type": "markdown",
   "id": "e76fa865",
   "metadata": {},
   "source": [
    "## Time series sometimes do not have features"
   ]
  },
  {
   "cell_type": "markdown",
   "id": "6a422898",
   "metadata": {},
   "source": [
    "`Es posible predecir series temporales sin el uso de características además de la propia serie temporal.`\n",
    "Como científicos de datos, estamos acostumbrados a tener conjuntos de datos con muchas columnas, cada una representando un posible predictor para nuestro objetivo.\n",
    "\n",
    "`Sin embargo, con las series temporales, es bastante común que se nos proporcione un conjunto de datos simple con una columna de tiempo y un valor en ese momento`. Sin ninguna otra característica, debemos aprender a utilizar los valores pasados de la serie temporal para pronosticar valores futuros. Es en este momento cuando entran en juego el modelo de `media móvil` (capítulo 4) o el `modelo autorregresivo` (capítulo 5), ya que son formas de expresar los valores futuros como una función de los valores pasados.\n",
    "\n",
    "Estos modelos son fundamentales para los modelos más complejos que luego te permiten considerar patrones estacionales y tendencias en series temporales. A partir del capítulo 6, iremos construyendo gradualmente sobre esos modelos básicos para pronosticar series temporales más complejas."
   ]
  },
  {
   "cell_type": "markdown",
   "id": "e1613141",
   "metadata": {},
   "source": [
    "## Next steps"
   ]
  },
  {
   "cell_type": "markdown",
   "id": "04a9f8d9",
   "metadata": {},
   "source": [
    "Este libro cubrirá diferentes técnicas de pronóstico en detalle. Comenzaremos con algunos métodos muy básicos, como el modelo de promedio móvil y el modelo autorregresivo, y gradualmente tomaremos en cuenta más factores para pronosticar series temporales con tendencias y patrones estacionales utilizando los modelos ARIMA, SARIMA y SARIMAX.\n",
    "\n",
    "También trabajaremos con series temporales de alta dimensionalidad, lo que requerirá que usemos técnicas de aprendizaje profundo para datos secuenciales. Por lo tanto, tendremos que construir redes neuronales utilizando CNN (red neuronal convolucional) y LSTM (memoria a corto y largo plazo).\n",
    "\n",
    "Finalmente, `aprenderás cómo automatizar el trabajo de pronosticar series temporales`. Como se mencionó, todas las implementaciones a lo largo del libro se realizarán en Python.\n",
    "\n",
    "Ahora que has aprendido qué es una serie temporal y cómo la predicción será diferente de cualquier tarea de regresión tradicional que hayas visto antes, estamos listos para avanzar y comenzar a predecir. Sin embargo, nuestro primer intento de pronóstico se centrará en métodos ingenuos que servirán como modelos de referencia."
   ]
  },
  {
   "cell_type": "markdown",
   "id": "1e885de8",
   "metadata": {},
   "source": [
    "# Summary"
   ]
  },
  {
   "cell_type": "markdown",
   "id": "88610ae7",
   "metadata": {},
   "source": [
    "- Una serie temporal es un conjunto de puntos de datos ordenados en el tiempo.\n",
    "- Ejemplos de series temporales son el precio de cierre de una acción o la temperatura exterior.\n",
    "- Las series temporales se pueden descomponer en tres componentes: `una tendencia`, un `componente estacional` y `residuos`.\n",
    "- Es importante tener un objetivo al hacer pronósticos y monitorear el modelo una vez que se despliega. Esto asegurará el éxito y la longevidad del proyecto. \n",
    "- `Nunca cambies el orden de una serie temporal al modelar. No se permite mezclar los datos`.\n"
   ]
  }
 ],
 "metadata": {
  "language_info": {
   "name": "python"
  }
 },
 "nbformat": 4,
 "nbformat_minor": 5
}
